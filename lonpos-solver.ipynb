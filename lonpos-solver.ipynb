{
 "cells": [
  {
   "cell_type": "code",
   "execution_count": 234,
   "metadata": {
    "collapsed": true
   },
   "outputs": [],
   "source": [
    "%matplotlib inline\n",
    "\n",
    "import matplotlib\n",
    "import numpy as np\n",
    "import matplotlib.pyplot as plt"
   ]
  },
  {
   "cell_type": "code",
   "execution_count": 235,
   "metadata": {
    "collapsed": false
   },
   "outputs": [],
   "source": [
    "data = {\n",
    "    'colors': {\n",
    "        0: 'black',\n",
    "        1: 'darkorange',\n",
    "        2: 'purple',\n",
    "        3: 'beige',\n",
    "        4: 'red',\n",
    "        5: 'gray',\n",
    "        6: 'lime',\n",
    "        7: 'yellow',\n",
    "        8: 'blue',\n",
    "        9: 'skyblue',\n",
    "        10: 'moccasin',\n",
    "        11: 'pink',\n",
    "        12: 'green'\n",
    "    }\n",
    "}\n",
    "\n",
    "def render(shapes):\n",
    "    field = np.zeros(5*11)\n",
    "    field.shape = (5, 11)\n",
    "    index = 1\n",
    "    for shape in shapes:\n",
    "        for p in shape:\n",
    "            field[p[0], p[1]] = index\n",
    "        index += 1\n",
    "    plt.matshow(field)  \n",
    "    # s = np.ones(8)*3000\n",
    "    # c = [data['colors'][t] for t in range(13)]\n",
    "    # plt.scatter(data['field'], data['field'], s=s, c=c, alpha=0.8)\n",
    "    # plt.grid(True)\n",
    "    \n",
    "\n",
    "shapes = [\n",
    "    np.array([[0,0],[0,1],[1,0]]),\n",
    "    np.array([[0,0],[1,0],[1,1],[1,2]]),\n",
    "    np.array([[0,0],[0,-1],[-1,0],[0,1],[1,0]]),\n",
    "    np.array([[0,0],[0,1],[0,2],[0,3],[1,1]]),\n",
    "    np.array([[0,0],[0,1],[1,1],[1,2],[2,2]]),\n",
    "    np.array([[0,0],[0,1],[0,2],[1,2],[1,3]]),\n",
    "    np.array([[0,0],[0,1],[0,2],[0,3],[1,0]]),\n",
    "    np.array([[0,0],[0,1],[0,2],[0,3]]),\n",
    "    np.array([[0,0],[0,1],[0,2],[1,0],[1,1]]),\n",
    "    np.array([[0,0],[0,1],[0,2],[1,0],[1,2]]),\n",
    "    np.array([[0,0],[0,1],[1,0],[1,1]]),\n",
    "    np.array([[0,0],[0,1],[0,2],[1,0],[2,0]])\n",
    "]\n",
    "\n",
    "def rotate_right(shape):\n",
    "    transform(shape, [[0,1],[-1,0]])\n",
    "\n",
    "def rotate_left(shape):\n",
    "    transform(shape, [[0,-1],[1,0]])\n",
    "\n",
    "def flip(shape):\n",
    "    transform(shape, [[1,0],[0,-1]])\n",
    "\n",
    "def move_down(shape, step=1):\n",
    "    for i in range(len(shape)):\n",
    "        shape[i] = shape[i] + [step,0]\n",
    "\n",
    "def move_up(shape, step=1):\n",
    "    for i in range(len(shape)):\n",
    "        shape[i] = shape[i] - [step,0]\n",
    "        \n",
    "def move_right(shape, step=1):\n",
    "    for i in range(len(shape)):\n",
    "        shape[i] = shape[i] + [0,1]\n",
    "        \n",
    "def move_left(shape, step=1):\n",
    "    for i in range(len(shape)):\n",
    "        shape[i] = shape[i] - [0,1]\n",
    "             \n",
    "def transform(shape, M_def_t):\n",
    "    M = np.array(M_def_t).transpose()\n",
    "    for i in range(len(shape)):\n",
    "        shape[i] = M.dot(shape[i])\n"
   ]
  },
  {
   "cell_type": "code",
   "execution_count": 236,
   "metadata": {
    "collapsed": false,
    "scrolled": true
   },
   "outputs": [
    {
     "data": {
      "image/png": "[encoded data removed]",
      "text/plain": [
       "<matplotlib.figure.Figure at 0x7fa436611b00>"
      ]
     },
     "metadata": {},
     "output_type": "display_data"
    }
   ],
   "source": [
    "def solve(shapes):\n",
    "    field = np.zeros(5*11)\n",
    "    field.shape = (5, 11)\n",
    "    \n",
    "    render(shapes)\n",
    "\n",
    "solve(shapes)"
   ]
  }
 ],
 "metadata": {
  "kernelspec": {
   "display_name": "Python 3",
   "language": "python",
   "name": "python3"
  },
  "language_info": {
   "codemirror_mode": {
    "name": "ipython",
    "version": 3
   },
   "file_extension": ".py",
   "mimetype": "text/x-python",
   "name": "python",
   "nbconvert_exporter": "python",
   "pygments_lexer": "ipython3",
   "version": "3.5.2"
  }
 },
 "nbformat": 4,
 "nbformat_minor": 2
}
